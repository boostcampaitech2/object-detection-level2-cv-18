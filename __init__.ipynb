{
 "cells": [
  {
   "cell_type": "code",
   "execution_count": null,
   "source": [],
   "outputs": [],
   "metadata": {}
  }
 ],
 "metadata": {
  "orig_nbformat": 4,
  "language_info": {
   "name": "python",
   "version": "3.7.11"
  },
  "kernelspec": {
   "name": "python3",
   "display_name": "Python 3.7.11 64-bit ('detection': conda)"
  },
  "interpreter": {
   "hash": "29b0cbc8c2bc4924fb253dd9334aba0cc9ad3225fd824ea55dea16089b664698"
  }
 },
 "nbformat": 4,
 "nbformat_minor": 2
}